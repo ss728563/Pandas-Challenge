{
 "cells": [
  {
   "cell_type": "markdown",
   "metadata": {},
   "source": [
    "### Note\n",
    "* Instructions have been included for each segment. You do not have to follow them exactly, but they are included to help you think through the steps."
   ]
  },
  {
   "cell_type": "code",
   "execution_count": 34,
   "metadata": {},
   "outputs": [],
   "source": [
    "# Dependencies and Setup\n",
    "import pandas as pd\n",
    "import numpy as np\n",
    "\n",
    "# File to Load (Remember to Change These)\n",
    "file_to_load = \"Resources/purchase_data.csv\"\n",
    "\n",
    "# Read Purchasing File and store into Pandas data frame\n",
    "purchase_data = pd.read_csv(file_to_load)"
   ]
  },
  {
   "cell_type": "markdown",
   "metadata": {},
   "source": [
    "## Player Count"
   ]
  },
  {
   "cell_type": "markdown",
   "metadata": {},
   "source": [
    "* Display the total number of players\n"
   ]
  },
  {
   "cell_type": "code",
   "execution_count": 35,
   "metadata": {},
   "outputs": [
    {
     "data": {
      "text/plain": [
       "576"
      ]
     },
     "execution_count": 35,
     "metadata": {},
     "output_type": "execute_result"
    }
   ],
   "source": [
    "#Total numbers of players using SN\n",
    "totalplayers = len(purchase_data[\"SN\"].unique())\n",
    "totalplayers"
   ]
  },
  {
   "cell_type": "markdown",
   "metadata": {},
   "source": [
    "## Purchasing Analysis (Total)"
   ]
  },
  {
   "cell_type": "markdown",
   "metadata": {},
   "source": [
    "* Run basic calculations to obtain number of unique items, average price, etc.\n",
    "\n",
    "\n",
    "* Create a summary data frame to hold the results\n",
    "\n",
    "\n",
    "* Optional: give the displayed data cleaner formatting\n",
    "\n",
    "\n",
    "* Display the summary data frame\n"
   ]
  },
  {
   "cell_type": "code",
   "execution_count": 36,
   "metadata": {
    "scrolled": true
   },
   "outputs": [
    {
     "data": {
      "text/html": [
       "<style  type=\"text/css\" >\n",
       "</style><table id=\"T_f4ab9e06_109f_11eb_be9e_acde48001122\" ><thead>    <tr>        <th class=\"blank level0\" ></th>        <th class=\"col_heading level0 col0\" >Unique Item</th>        <th class=\"col_heading level0 col1\" >Number of Purchases</th>        <th class=\"col_heading level0 col2\" >Average Price</th>        <th class=\"col_heading level0 col3\" >Total Revenue</th>    </tr></thead><tbody>\n",
       "                <tr>\n",
       "                        <th id=\"T_f4ab9e06_109f_11eb_be9e_acde48001122level0_row0\" class=\"row_heading level0 row0\" >0</th>\n",
       "                        <td id=\"T_f4ab9e06_109f_11eb_be9e_acde48001122row0_col0\" class=\"data row0 col0\" >179</td>\n",
       "                        <td id=\"T_f4ab9e06_109f_11eb_be9e_acde48001122row0_col1\" class=\"data row0 col1\" >780</td>\n",
       "                        <td id=\"T_f4ab9e06_109f_11eb_be9e_acde48001122row0_col2\" class=\"data row0 col2\" >$3.05</td>\n",
       "                        <td id=\"T_f4ab9e06_109f_11eb_be9e_acde48001122row0_col3\" class=\"data row0 col3\" >$2379.77</td>\n",
       "            </tr>\n",
       "    </tbody></table>"
      ],
      "text/plain": [
       "<pandas.io.formats.style.Styler at 0x7ffa7fb90be0>"
      ]
     },
     "execution_count": 36,
     "metadata": {},
     "output_type": "execute_result"
    }
   ],
   "source": [
    "#Unique Items\n",
    "uniqueitems = len(purchase_data[\"Item ID\"].unique())\n",
    "uniqueitems\n",
    "\n",
    "#Number of Purchases\n",
    "numberpurchases = len(purchase_data[\"Purchase ID\"].unique())\n",
    "numberpurchases\n",
    "\n",
    "#Total Revenue\n",
    "totalrevenue = purchase_data[\"Price\"].sum()\n",
    "totalrevenue\n",
    "\n",
    "#Average Price\n",
    "averageprice = purchase_data[\"Price\"].mean()\n",
    "averageprice\n",
    "\n",
    "#Summary Table\n",
    "summarytable = pd.DataFrame({\"Unique Item\": [uniqueitems],\n",
    "                            \"Number of Purchases\": [numberpurchases],\n",
    "                            \"Average Price\": [averageprice],\n",
    "                            \"Total Revenue\": [totalrevenue]})\n",
    "summarytable.head()\n",
    "\n",
    "summarytable.style.format({\"Average Price\": \"${:.2f}\", \"Total Revenue\": \"${:.2f}\"})\n"
   ]
  },
  {
   "cell_type": "markdown",
   "metadata": {},
   "source": [
    "## Gender Demographics"
   ]
  },
  {
   "cell_type": "markdown",
   "metadata": {},
   "source": [
    "* Percentage and Count of Male Players\n",
    "\n",
    "\n",
    "* Percentage and Count of Female Players\n",
    "\n",
    "\n",
    "* Percentage and Count of Other / Non-Disclosed\n",
    "\n",
    "\n"
   ]
  },
  {
   "cell_type": "code",
   "execution_count": 37,
   "metadata": {},
   "outputs": [
    {
     "data": {
      "text/html": [
       "<div>\n",
       "<style scoped>\n",
       "    .dataframe tbody tr th:only-of-type {\n",
       "        vertical-align: middle;\n",
       "    }\n",
       "\n",
       "    .dataframe tbody tr th {\n",
       "        vertical-align: top;\n",
       "    }\n",
       "\n",
       "    .dataframe thead th {\n",
       "        text-align: right;\n",
       "    }\n",
       "</style>\n",
       "<table border=\"1\" class=\"dataframe\">\n",
       "  <thead>\n",
       "    <tr style=\"text-align: right;\">\n",
       "      <th></th>\n",
       "      <th>Percentage of Players</th>\n",
       "      <th>Count</th>\n",
       "    </tr>\n",
       "    <tr>\n",
       "      <th>Gender</th>\n",
       "      <th></th>\n",
       "      <th></th>\n",
       "    </tr>\n",
       "  </thead>\n",
       "  <tbody>\n",
       "    <tr>\n",
       "      <th>Female</th>\n",
       "      <td>14.06%</td>\n",
       "      <td>81</td>\n",
       "    </tr>\n",
       "    <tr>\n",
       "      <th>Male</th>\n",
       "      <td>84.03%</td>\n",
       "      <td>484</td>\n",
       "    </tr>\n",
       "    <tr>\n",
       "      <th>Other / Non-Disclosed</th>\n",
       "      <td>1.91%</td>\n",
       "      <td>11</td>\n",
       "    </tr>\n",
       "  </tbody>\n",
       "</table>\n",
       "</div>"
      ],
      "text/plain": [
       "                      Percentage of Players  Count\n",
       "Gender                                            \n",
       "Female                               14.06%     81\n",
       "Male                                 84.03%    484\n",
       "Other / Non-Disclosed                 1.91%     11"
      ]
     },
     "execution_count": 37,
     "metadata": {},
     "output_type": "execute_result"
    }
   ],
   "source": [
    "#Group data by Gender and filter duplicates\n",
    "grouped_df = purchase_data.groupby([\"Gender\"])\n",
    "unique_df = grouped_df.nunique()\n",
    "\n",
    "#Total Gender\n",
    "total_gender = unique_df[\"SN\"].sum()\n",
    "\n",
    "#Percentage and Count of Players\n",
    "count = unique_df[\"SN\"].unique()\n",
    "percentage = unique_df[\"SN\"]/ total_gender\n",
    "\n",
    "#Create new dataframe\n",
    "final_gender = pd.DataFrame({\"Percentage of Players\": percentage,\n",
    "                            \"Count\":count})\n",
    "#Change percentage format and re order columns\n",
    "final_gender[\"Percentage of Players\"] = final_gender[\"Percentage of Players\"].map(\"{:,.2%}\".format) \n",
    "#Print final dataframe\n",
    "final_gender"
   ]
  },
  {
   "cell_type": "markdown",
   "metadata": {},
   "source": [
    "\n",
    "## Purchasing Analysis (Gender)"
   ]
  },
  {
   "cell_type": "markdown",
   "metadata": {},
   "source": [
    "* Run basic calculations to obtain purchase count, avg. purchase price, avg. purchase total per person etc. by gender\n",
    "\n",
    "\n",
    "\n",
    "\n",
    "* Create a summary data frame to hold the results\n",
    "\n",
    "\n",
    "* Optional: give the displayed data cleaner formatting\n",
    "\n",
    "\n",
    "* Display the summary data frame"
   ]
  },
  {
   "cell_type": "code",
   "execution_count": 38,
   "metadata": {},
   "outputs": [
    {
     "data": {
      "text/html": [
       "<style  type=\"text/css\" >\n",
       "</style><table id=\"T_f4b88a6c_109f_11eb_88a7_acde48001122\" ><thead>    <tr>        <th class=\"blank level0\" ></th>        <th class=\"col_heading level0 col0\" >Purchase Count</th>        <th class=\"col_heading level0 col1\" >Average Purchase Price</th>        <th class=\"col_heading level0 col2\" >Total Purchase Value</th>        <th class=\"col_heading level0 col3\" >Avg Purchase Total Per Person</th>    </tr>    <tr>        <th class=\"index_name level0\" >Gender</th>        <th class=\"blank\" ></th>        <th class=\"blank\" ></th>        <th class=\"blank\" ></th>        <th class=\"blank\" ></th>    </tr></thead><tbody>\n",
       "                <tr>\n",
       "                        <th id=\"T_f4b88a6c_109f_11eb_88a7_acde48001122level0_row0\" class=\"row_heading level0 row0\" >Female</th>\n",
       "                        <td id=\"T_f4b88a6c_109f_11eb_88a7_acde48001122row0_col0\" class=\"data row0 col0\" >113</td>\n",
       "                        <td id=\"T_f4b88a6c_109f_11eb_88a7_acde48001122row0_col1\" class=\"data row0 col1\" >$3.20</td>\n",
       "                        <td id=\"T_f4b88a6c_109f_11eb_88a7_acde48001122row0_col2\" class=\"data row0 col2\" >$361.94</td>\n",
       "                        <td id=\"T_f4b88a6c_109f_11eb_88a7_acde48001122row0_col3\" class=\"data row0 col3\" >$3.20</td>\n",
       "            </tr>\n",
       "            <tr>\n",
       "                        <th id=\"T_f4b88a6c_109f_11eb_88a7_acde48001122level0_row1\" class=\"row_heading level0 row1\" >Male</th>\n",
       "                        <td id=\"T_f4b88a6c_109f_11eb_88a7_acde48001122row1_col0\" class=\"data row1 col0\" >652</td>\n",
       "                        <td id=\"T_f4b88a6c_109f_11eb_88a7_acde48001122row1_col1\" class=\"data row1 col1\" >$3.02</td>\n",
       "                        <td id=\"T_f4b88a6c_109f_11eb_88a7_acde48001122row1_col2\" class=\"data row1 col2\" >$1967.64</td>\n",
       "                        <td id=\"T_f4b88a6c_109f_11eb_88a7_acde48001122row1_col3\" class=\"data row1 col3\" >$3.02</td>\n",
       "            </tr>\n",
       "            <tr>\n",
       "                        <th id=\"T_f4b88a6c_109f_11eb_88a7_acde48001122level0_row2\" class=\"row_heading level0 row2\" >Other / Non-Disclosed</th>\n",
       "                        <td id=\"T_f4b88a6c_109f_11eb_88a7_acde48001122row2_col0\" class=\"data row2 col0\" >15</td>\n",
       "                        <td id=\"T_f4b88a6c_109f_11eb_88a7_acde48001122row2_col1\" class=\"data row2 col1\" >$3.35</td>\n",
       "                        <td id=\"T_f4b88a6c_109f_11eb_88a7_acde48001122row2_col2\" class=\"data row2 col2\" >$50.19</td>\n",
       "                        <td id=\"T_f4b88a6c_109f_11eb_88a7_acde48001122row2_col3\" class=\"data row2 col3\" >$3.35</td>\n",
       "            </tr>\n",
       "    </tbody></table>"
      ],
      "text/plain": [
       "<pandas.io.formats.style.Styler at 0x7ffa7fbfbb70>"
      ]
     },
     "execution_count": 38,
     "metadata": {},
     "output_type": "execute_result"
    }
   ],
   "source": [
    "genderpurchasetotal = purchase_data.groupby([\"Gender\"]).sum()[\"Price\"]\n",
    "genderpurchasetotal = genderpurchasetotal.round(2)\n",
    "genderpurchasetotal\n",
    "\n",
    "\n",
    "genderaverage = purchase_data.groupby([\"Gender\"]).mean()[\"Price\"]\n",
    "genderaverage = genderaverage.round(2)\n",
    "genderaverage\n",
    "\n",
    "gendercounts = purchase_data.groupby([\"Gender\"]).count()[\"Price\"]\n",
    "gendercounts\n",
    "\n",
    "perperson = genderpurchasetotal / gendercounts \n",
    "perperson =perperson.round(2)\n",
    "perperson\n",
    "\n",
    "#create the table\n",
    "genderpurchasetable = pd.DataFrame({\"Purchase Count\": gendercounts, \n",
    "                                   \"Average Purchase Price\": genderaverage, \"Total Purchase Value\": genderpurchasetotal,\n",
    "                                   \"Avg Purchase Total Per Person\": perperson})\n",
    "                                   \n",
    "                                  \n",
    "   \n",
    "\n",
    "                                        \n",
    "genderpurchasetable\n",
    "genderpurchasetable.style.format({\"Average Purchase Price\": \"${:.2f}\", \"Avg Purchase Total Per Person\": \"${:.2f}\",\n",
    "                                 \"Total Purchase Value\": \"${:.2f}\"})\n",
    "\n"
   ]
  },
  {
   "cell_type": "markdown",
   "metadata": {},
   "source": [
    "## Age Demographics"
   ]
  },
  {
   "cell_type": "markdown",
   "metadata": {},
   "source": [
    "* Establish bins for ages\n",
    "\n",
    "\n",
    "* Categorize the existing players using the age bins. Hint: use pd.cut()\n",
    "\n",
    "\n",
    "* Calculate the numbers and percentages by age group\n",
    "\n",
    "\n",
    "* Create a summary data frame to hold the results\n",
    "\n",
    "\n",
    "* Optional: round the percentage column to two decimal points\n",
    "\n",
    "\n",
    "* Display Age Demographics Table\n"
   ]
  },
  {
   "cell_type": "code",
   "execution_count": 39,
   "metadata": {},
   "outputs": [
    {
     "data": {
      "text/html": [
       "<style  type=\"text/css\" >\n",
       "</style><table id=\"T_f4bdb028_109f_11eb_9c00_acde48001122\" ><thead>    <tr>        <th class=\"blank level0\" ></th>        <th class=\"col_heading level0 col0\" >Total Count</th>        <th class=\"col_heading level0 col1\" >Percentage of Players</th>    </tr></thead><tbody>\n",
       "                <tr>\n",
       "                        <th id=\"T_f4bdb028_109f_11eb_9c00_acde48001122level0_row0\" class=\"row_heading level0 row0\" ><10</th>\n",
       "                        <td id=\"T_f4bdb028_109f_11eb_9c00_acde48001122row0_col0\" class=\"data row0 col0\" >23</td>\n",
       "                        <td id=\"T_f4bdb028_109f_11eb_9c00_acde48001122row0_col1\" class=\"data row0 col1\" >3.99%</td>\n",
       "            </tr>\n",
       "            <tr>\n",
       "                        <th id=\"T_f4bdb028_109f_11eb_9c00_acde48001122level0_row1\" class=\"row_heading level0 row1\" >10-14</th>\n",
       "                        <td id=\"T_f4bdb028_109f_11eb_9c00_acde48001122row1_col0\" class=\"data row1 col0\" >28</td>\n",
       "                        <td id=\"T_f4bdb028_109f_11eb_9c00_acde48001122row1_col1\" class=\"data row1 col1\" >4.86%</td>\n",
       "            </tr>\n",
       "            <tr>\n",
       "                        <th id=\"T_f4bdb028_109f_11eb_9c00_acde48001122level0_row2\" class=\"row_heading level0 row2\" >15-19</th>\n",
       "                        <td id=\"T_f4bdb028_109f_11eb_9c00_acde48001122row2_col0\" class=\"data row2 col0\" >136</td>\n",
       "                        <td id=\"T_f4bdb028_109f_11eb_9c00_acde48001122row2_col1\" class=\"data row2 col1\" >23.61%</td>\n",
       "            </tr>\n",
       "            <tr>\n",
       "                        <th id=\"T_f4bdb028_109f_11eb_9c00_acde48001122level0_row3\" class=\"row_heading level0 row3\" >20-24</th>\n",
       "                        <td id=\"T_f4bdb028_109f_11eb_9c00_acde48001122row3_col0\" class=\"data row3 col0\" >365</td>\n",
       "                        <td id=\"T_f4bdb028_109f_11eb_9c00_acde48001122row3_col1\" class=\"data row3 col1\" >63.37%</td>\n",
       "            </tr>\n",
       "            <tr>\n",
       "                        <th id=\"T_f4bdb028_109f_11eb_9c00_acde48001122level0_row4\" class=\"row_heading level0 row4\" >25-29</th>\n",
       "                        <td id=\"T_f4bdb028_109f_11eb_9c00_acde48001122row4_col0\" class=\"data row4 col0\" >101</td>\n",
       "                        <td id=\"T_f4bdb028_109f_11eb_9c00_acde48001122row4_col1\" class=\"data row4 col1\" >17.53%</td>\n",
       "            </tr>\n",
       "            <tr>\n",
       "                        <th id=\"T_f4bdb028_109f_11eb_9c00_acde48001122level0_row5\" class=\"row_heading level0 row5\" >30-34</th>\n",
       "                        <td id=\"T_f4bdb028_109f_11eb_9c00_acde48001122row5_col0\" class=\"data row5 col0\" >73</td>\n",
       "                        <td id=\"T_f4bdb028_109f_11eb_9c00_acde48001122row5_col1\" class=\"data row5 col1\" >12.67%</td>\n",
       "            </tr>\n",
       "            <tr>\n",
       "                        <th id=\"T_f4bdb028_109f_11eb_9c00_acde48001122level0_row6\" class=\"row_heading level0 row6\" >35-39</th>\n",
       "                        <td id=\"T_f4bdb028_109f_11eb_9c00_acde48001122row6_col0\" class=\"data row6 col0\" >41</td>\n",
       "                        <td id=\"T_f4bdb028_109f_11eb_9c00_acde48001122row6_col1\" class=\"data row6 col1\" >7.12%</td>\n",
       "            </tr>\n",
       "            <tr>\n",
       "                        <th id=\"T_f4bdb028_109f_11eb_9c00_acde48001122level0_row7\" class=\"row_heading level0 row7\" >>40</th>\n",
       "                        <td id=\"T_f4bdb028_109f_11eb_9c00_acde48001122row7_col0\" class=\"data row7 col0\" >13</td>\n",
       "                        <td id=\"T_f4bdb028_109f_11eb_9c00_acde48001122row7_col1\" class=\"data row7 col1\" >2.26%</td>\n",
       "            </tr>\n",
       "    </tbody></table>"
      ],
      "text/plain": [
       "<pandas.io.formats.style.Styler at 0x7ffa7fbf6320>"
      ]
     },
     "execution_count": 39,
     "metadata": {},
     "output_type": "execute_result"
    }
   ],
   "source": [
    "\n",
    "age_bins = [0, 9.90, 14.90, 19.90, 24.9, 29.9, 34.90, 39.90, 9999999]\n",
    "group_names = [\"<10\", \"10-14\", \"15-19\", \"20-24\", \"25-29\", \"30-34\", \"35-39\", \">40\"]\n",
    "\n",
    "\n",
    "playerdemographic = pd.cut(purchase_data[\"Age\"], age_bins, labels=group_names)\n",
    "playerdemographic\n",
    "\n",
    "#calculations\n",
    "agedemocount =playerdemographic.value_counts()\n",
    "agedemocount = agedemocount.round(2)\n",
    " \n",
    "agepercent = agedemocount / totalplayers *100\n",
    "agepercent =agepercent.round(2)\n",
    "agepercent\n",
    "\n",
    "#create table\n",
    "agedemotable = pd.DataFrame({\"Total Count\": agedemocount, \"Percentage of Players\": agepercent})\n",
    "\n",
    "\n",
    "agedemotable = agedemotable.sort_index()\n",
    "agedemotable\n",
    "\n",
    "agedemotable.style.format({\"Percentage of Players\": \"{:.2f}%\"})"
   ]
  },
  {
   "cell_type": "markdown",
   "metadata": {},
   "source": [
    "## Purchasing Analysis (Age)"
   ]
  },
  {
   "cell_type": "markdown",
   "metadata": {},
   "source": [
    "* Bin the purchase_data data frame by age\n",
    "\n",
    "\n",
    "* Run basic calculations to obtain purchase count, avg. purchase price, avg. purchase total per person etc. in the table below\n",
    "\n",
    "\n",
    "* Create a summary data frame to hold the results\n",
    "\n",
    "\n",
    "* Optional: give the displayed data cleaner formatting\n",
    "\n",
    "\n",
    "* Display the summary data frame"
   ]
  },
  {
   "cell_type": "code",
   "execution_count": 40,
   "metadata": {},
   "outputs": [
    {
     "data": {
      "text/html": [
       "<style  type=\"text/css\" >\n",
       "</style><table id=\"T_f4c45126_109f_11eb_b5ae_acde48001122\" ><thead>    <tr>        <th class=\"blank level0\" ></th>        <th class=\"col_heading level0 col0\" >Purchase Count</th>        <th class=\"col_heading level0 col1\" >Average Purchase Price</th>        <th class=\"col_heading level0 col2\" >Total Purchase Value</th>        <th class=\"col_heading level0 col3\" >Average Purchase Per Person</th>    </tr>    <tr>        <th class=\"index_name level0\" >Age Ranges</th>        <th class=\"blank\" ></th>        <th class=\"blank\" ></th>        <th class=\"blank\" ></th>        <th class=\"blank\" ></th>    </tr></thead><tbody>\n",
       "                <tr>\n",
       "                        <th id=\"T_f4c45126_109f_11eb_b5ae_acde48001122level0_row0\" class=\"row_heading level0 row0\" ><10</th>\n",
       "                        <td id=\"T_f4c45126_109f_11eb_b5ae_acde48001122row0_col0\" class=\"data row0 col0\" >23</td>\n",
       "                        <td id=\"T_f4c45126_109f_11eb_b5ae_acde48001122row0_col1\" class=\"data row0 col1\" >$3.35</td>\n",
       "                        <td id=\"T_f4c45126_109f_11eb_b5ae_acde48001122row0_col2\" class=\"data row0 col2\" >$77.13</td>\n",
       "                        <td id=\"T_f4c45126_109f_11eb_b5ae_acde48001122row0_col3\" class=\"data row0 col3\" >$3.35</td>\n",
       "            </tr>\n",
       "            <tr>\n",
       "                        <th id=\"T_f4c45126_109f_11eb_b5ae_acde48001122level0_row1\" class=\"row_heading level0 row1\" >10-14</th>\n",
       "                        <td id=\"T_f4c45126_109f_11eb_b5ae_acde48001122row1_col0\" class=\"data row1 col0\" >28</td>\n",
       "                        <td id=\"T_f4c45126_109f_11eb_b5ae_acde48001122row1_col1\" class=\"data row1 col1\" >$2.96</td>\n",
       "                        <td id=\"T_f4c45126_109f_11eb_b5ae_acde48001122row1_col2\" class=\"data row1 col2\" >$82.78</td>\n",
       "                        <td id=\"T_f4c45126_109f_11eb_b5ae_acde48001122row1_col3\" class=\"data row1 col3\" >$2.96</td>\n",
       "            </tr>\n",
       "            <tr>\n",
       "                        <th id=\"T_f4c45126_109f_11eb_b5ae_acde48001122level0_row2\" class=\"row_heading level0 row2\" >15-19</th>\n",
       "                        <td id=\"T_f4c45126_109f_11eb_b5ae_acde48001122row2_col0\" class=\"data row2 col0\" >136</td>\n",
       "                        <td id=\"T_f4c45126_109f_11eb_b5ae_acde48001122row2_col1\" class=\"data row2 col1\" >$3.04</td>\n",
       "                        <td id=\"T_f4c45126_109f_11eb_b5ae_acde48001122row2_col2\" class=\"data row2 col2\" >$412.89</td>\n",
       "                        <td id=\"T_f4c45126_109f_11eb_b5ae_acde48001122row2_col3\" class=\"data row2 col3\" >$3.04</td>\n",
       "            </tr>\n",
       "            <tr>\n",
       "                        <th id=\"T_f4c45126_109f_11eb_b5ae_acde48001122level0_row3\" class=\"row_heading level0 row3\" >20-24</th>\n",
       "                        <td id=\"T_f4c45126_109f_11eb_b5ae_acde48001122row3_col0\" class=\"data row3 col0\" >365</td>\n",
       "                        <td id=\"T_f4c45126_109f_11eb_b5ae_acde48001122row3_col1\" class=\"data row3 col1\" >$3.05</td>\n",
       "                        <td id=\"T_f4c45126_109f_11eb_b5ae_acde48001122row3_col2\" class=\"data row3 col2\" >$1114.06</td>\n",
       "                        <td id=\"T_f4c45126_109f_11eb_b5ae_acde48001122row3_col3\" class=\"data row3 col3\" >$3.05</td>\n",
       "            </tr>\n",
       "            <tr>\n",
       "                        <th id=\"T_f4c45126_109f_11eb_b5ae_acde48001122level0_row4\" class=\"row_heading level0 row4\" >25-29</th>\n",
       "                        <td id=\"T_f4c45126_109f_11eb_b5ae_acde48001122row4_col0\" class=\"data row4 col0\" >101</td>\n",
       "                        <td id=\"T_f4c45126_109f_11eb_b5ae_acde48001122row4_col1\" class=\"data row4 col1\" >$2.90</td>\n",
       "                        <td id=\"T_f4c45126_109f_11eb_b5ae_acde48001122row4_col2\" class=\"data row4 col2\" >$293.00</td>\n",
       "                        <td id=\"T_f4c45126_109f_11eb_b5ae_acde48001122row4_col3\" class=\"data row4 col3\" >$2.90</td>\n",
       "            </tr>\n",
       "            <tr>\n",
       "                        <th id=\"T_f4c45126_109f_11eb_b5ae_acde48001122level0_row5\" class=\"row_heading level0 row5\" >30-34</th>\n",
       "                        <td id=\"T_f4c45126_109f_11eb_b5ae_acde48001122row5_col0\" class=\"data row5 col0\" >73</td>\n",
       "                        <td id=\"T_f4c45126_109f_11eb_b5ae_acde48001122row5_col1\" class=\"data row5 col1\" >$2.93</td>\n",
       "                        <td id=\"T_f4c45126_109f_11eb_b5ae_acde48001122row5_col2\" class=\"data row5 col2\" >$214.00</td>\n",
       "                        <td id=\"T_f4c45126_109f_11eb_b5ae_acde48001122row5_col3\" class=\"data row5 col3\" >$2.93</td>\n",
       "            </tr>\n",
       "            <tr>\n",
       "                        <th id=\"T_f4c45126_109f_11eb_b5ae_acde48001122level0_row6\" class=\"row_heading level0 row6\" >35-39</th>\n",
       "                        <td id=\"T_f4c45126_109f_11eb_b5ae_acde48001122row6_col0\" class=\"data row6 col0\" >41</td>\n",
       "                        <td id=\"T_f4c45126_109f_11eb_b5ae_acde48001122row6_col1\" class=\"data row6 col1\" >$3.60</td>\n",
       "                        <td id=\"T_f4c45126_109f_11eb_b5ae_acde48001122row6_col2\" class=\"data row6 col2\" >$147.67</td>\n",
       "                        <td id=\"T_f4c45126_109f_11eb_b5ae_acde48001122row6_col3\" class=\"data row6 col3\" >$3.60</td>\n",
       "            </tr>\n",
       "            <tr>\n",
       "                        <th id=\"T_f4c45126_109f_11eb_b5ae_acde48001122level0_row7\" class=\"row_heading level0 row7\" >>40</th>\n",
       "                        <td id=\"T_f4c45126_109f_11eb_b5ae_acde48001122row7_col0\" class=\"data row7 col0\" >13</td>\n",
       "                        <td id=\"T_f4c45126_109f_11eb_b5ae_acde48001122row7_col1\" class=\"data row7 col1\" >$2.94</td>\n",
       "                        <td id=\"T_f4c45126_109f_11eb_b5ae_acde48001122row7_col2\" class=\"data row7 col2\" >$38.24</td>\n",
       "                        <td id=\"T_f4c45126_109f_11eb_b5ae_acde48001122row7_col3\" class=\"data row7 col3\" >$2.94</td>\n",
       "            </tr>\n",
       "    </tbody></table>"
      ],
      "text/plain": [
       "<pandas.io.formats.style.Styler at 0x7ffa7fbeeda0>"
      ]
     },
     "execution_count": 40,
     "metadata": {},
     "output_type": "execute_result"
    }
   ],
   "source": [
    "# Bin the Purchasing Data\n",
    "purchase_data[\"Age Ranges\"] = pd.cut(purchase_data[\"Age\"], age_bins, labels=group_names)\n",
    "# Run basic calculations\n",
    "analysistot = purchase_data.groupby([\"Age Ranges\"]).sum()[\"Price\"]\n",
    "analysistot\n",
    "\n",
    "analysisavg = purchase_data.groupby([\"Age Ranges\"]).mean()[\"Price\"]\n",
    "analysisavg\n",
    "\n",
    "analysiscounts = purchase_data.groupby([\"Age Ranges\"]).count()[\"Price\"]\n",
    "analysiscounts\n",
    "\n",
    "#Average Purchase Total per Person \n",
    "\n",
    "\n",
    "analysisperperson = analysistot / analysiscounts \n",
    "analysisperperson = analysisperperson.round(2)\n",
    "analysisperperson\n",
    "\n",
    "#create DataFrame table\n",
    "analysistable = pd.DataFrame({\"Purchase Count\": analysiscounts, \"Average Purchase Price\": analysisavg,\n",
    "                             \"Total Purchase Value\": analysistot, \"Average Purchase Per Person\": analysisperperson})\n",
    "\n",
    "#cleaner format\n",
    "analysistable.style.format({\"Average Purchase Price\": \"${:.2f}\", \"Total Purchase Value\": \"${:.2f}\",\n",
    "                           \"Average Purchase Per Person\": \"${:.2f}\"})\n"
   ]
  },
  {
   "cell_type": "markdown",
   "metadata": {},
   "source": [
    "## Top Spenders"
   ]
  },
  {
   "cell_type": "markdown",
   "metadata": {},
   "source": [
    "* Run basic calculations to obtain the results in the table below\n",
    "\n",
    "\n",
    "* Create a summary data frame to hold the results\n",
    "\n",
    "\n",
    "* Sort the total purchase value column in descending order\n",
    "\n",
    "\n",
    "* Optional: give the displayed data cleaner formatting\n",
    "\n",
    "\n",
    "* Display a preview of the summary data frame\n",
    "\n"
   ]
  },
  {
   "cell_type": "code",
   "execution_count": 41,
   "metadata": {},
   "outputs": [
    {
     "data": {
      "text/html": [
       "<div>\n",
       "<style scoped>\n",
       "    .dataframe tbody tr th:only-of-type {\n",
       "        vertical-align: middle;\n",
       "    }\n",
       "\n",
       "    .dataframe tbody tr th {\n",
       "        vertical-align: top;\n",
       "    }\n",
       "\n",
       "    .dataframe thead th {\n",
       "        text-align: right;\n",
       "    }\n",
       "</style>\n",
       "<table border=\"1\" class=\"dataframe\">\n",
       "  <thead>\n",
       "    <tr style=\"text-align: right;\">\n",
       "      <th></th>\n",
       "      <th>Purchase Count</th>\n",
       "      <th>Average Purchase Price</th>\n",
       "      <th>Total Purchase Value</th>\n",
       "    </tr>\n",
       "    <tr>\n",
       "      <th>SN</th>\n",
       "      <th></th>\n",
       "      <th></th>\n",
       "      <th></th>\n",
       "    </tr>\n",
       "  </thead>\n",
       "  <tbody>\n",
       "    <tr>\n",
       "      <th>Lisosia93</th>\n",
       "      <td>5</td>\n",
       "      <td>3.792000</td>\n",
       "      <td>18.96</td>\n",
       "    </tr>\n",
       "    <tr>\n",
       "      <th>Idastidru52</th>\n",
       "      <td>4</td>\n",
       "      <td>3.862500</td>\n",
       "      <td>15.45</td>\n",
       "    </tr>\n",
       "    <tr>\n",
       "      <th>Chamjask73</th>\n",
       "      <td>3</td>\n",
       "      <td>4.610000</td>\n",
       "      <td>13.83</td>\n",
       "    </tr>\n",
       "    <tr>\n",
       "      <th>Iral74</th>\n",
       "      <td>4</td>\n",
       "      <td>3.405000</td>\n",
       "      <td>13.62</td>\n",
       "    </tr>\n",
       "    <tr>\n",
       "      <th>Iskadarya95</th>\n",
       "      <td>3</td>\n",
       "      <td>4.366667</td>\n",
       "      <td>13.10</td>\n",
       "    </tr>\n",
       "  </tbody>\n",
       "</table>\n",
       "</div>"
      ],
      "text/plain": [
       "             Purchase Count  Average Purchase Price  Total Purchase Value\n",
       "SN                                                                       \n",
       "Lisosia93                 5                3.792000                 18.96\n",
       "Idastidru52               4                3.862500                 15.45\n",
       "Chamjask73                3                4.610000                 13.83\n",
       "Iral74                    4                3.405000                 13.62\n",
       "Iskadarya95               3                4.366667                 13.10"
      ]
     },
     "execution_count": 41,
     "metadata": {},
     "output_type": "execute_result"
    }
   ],
   "source": [
    "topcount = purchase_data.groupby([\"SN\"]).count()[\"Price\"]\n",
    "topcount.head()\n",
    "\n",
    "topavgcount = purchase_data.groupby([\"SN\"]).mean()[\"Price\"]\n",
    "topavgcount.head()\n",
    "\n",
    "toptotalvalue = purchase_data.groupby([\"SN\"]).sum()[\"Price\"]\n",
    "toptotalvalue.head()\n",
    "\n",
    "topspenders = pd.DataFrame({\"Purchase Count\": topcount, \"Average Purchase Price\": topavgcount,\n",
    "                           \"Total Purchase Value\": toptotalvalue})\n",
    "\n",
    "\n",
    "topspenders.style.format({\"Average Purchase Price\": \"${:.2f}\", \"Total Purchase Value\": \"${:.2f}\"})\n",
    "topspenders.sort_values(\"Total Purchase Value\", ascending=False).head()"
   ]
  },
  {
   "cell_type": "markdown",
   "metadata": {},
   "source": [
    "## Most Popular Items"
   ]
  },
  {
   "cell_type": "markdown",
   "metadata": {},
   "source": [
    "* Retrieve the Item ID, Item Name, and Item Price columns\n",
    "\n",
    "\n",
    "* Group by Item ID and Item Name. Perform calculations to obtain purchase count, average item price, and total purchase value\n",
    "\n",
    "\n",
    "* Create a summary data frame to hold the results\n",
    "\n",
    "\n",
    "* Sort the purchase count column in descending order\n",
    "\n",
    "\n",
    "* Optional: give the displayed data cleaner formatting\n",
    "\n",
    "\n",
    "* Display a preview of the summary data frame\n",
    "\n"
   ]
  },
  {
   "cell_type": "code",
   "execution_count": 42,
   "metadata": {},
   "outputs": [
    {
     "data": {
      "text/html": [
       "<div>\n",
       "<style scoped>\n",
       "    .dataframe tbody tr th:only-of-type {\n",
       "        vertical-align: middle;\n",
       "    }\n",
       "\n",
       "    .dataframe tbody tr th {\n",
       "        vertical-align: top;\n",
       "    }\n",
       "\n",
       "    .dataframe thead th {\n",
       "        text-align: right;\n",
       "    }\n",
       "</style>\n",
       "<table border=\"1\" class=\"dataframe\">\n",
       "  <thead>\n",
       "    <tr style=\"text-align: right;\">\n",
       "      <th></th>\n",
       "      <th>Item Name</th>\n",
       "      <th>Item Count</th>\n",
       "      <th>Item Price</th>\n",
       "      <th>Total Purchase</th>\n",
       "    </tr>\n",
       "    <tr>\n",
       "      <th>Item ID</th>\n",
       "      <th></th>\n",
       "      <th></th>\n",
       "      <th></th>\n",
       "      <th></th>\n",
       "    </tr>\n",
       "  </thead>\n",
       "  <tbody>\n",
       "    <tr>\n",
       "      <th>92</th>\n",
       "      <td>Final Critic</td>\n",
       "      <td>13</td>\n",
       "      <td>4.88</td>\n",
       "      <td>59.99</td>\n",
       "    </tr>\n",
       "    <tr>\n",
       "      <th>178</th>\n",
       "      <td>Oathbreaker, Last Hope of the Breaking Storm</td>\n",
       "      <td>12</td>\n",
       "      <td>4.23</td>\n",
       "      <td>50.76</td>\n",
       "    </tr>\n",
       "    <tr>\n",
       "      <th>145</th>\n",
       "      <td>Fiery Glass Crusader</td>\n",
       "      <td>9</td>\n",
       "      <td>4.58</td>\n",
       "      <td>41.22</td>\n",
       "    </tr>\n",
       "    <tr>\n",
       "      <th>132</th>\n",
       "      <td>Persuasion</td>\n",
       "      <td>9</td>\n",
       "      <td>3.19</td>\n",
       "      <td>28.99</td>\n",
       "    </tr>\n",
       "    <tr>\n",
       "      <th>108</th>\n",
       "      <td>Extraction, Quickblade Of Trembling Hands</td>\n",
       "      <td>9</td>\n",
       "      <td>3.53</td>\n",
       "      <td>31.77</td>\n",
       "    </tr>\n",
       "  </tbody>\n",
       "</table>\n",
       "</div>"
      ],
      "text/plain": [
       "                                            Item Name  Item Count  Item Price  \\\n",
       "Item ID                                                                         \n",
       "92                                       Final Critic          13        4.88   \n",
       "178      Oathbreaker, Last Hope of the Breaking Storm          12        4.23   \n",
       "145                              Fiery Glass Crusader           9        4.58   \n",
       "132                                        Persuasion           9        3.19   \n",
       "108         Extraction, Quickblade Of Trembling Hands           9        3.53   \n",
       "\n",
       "         Total Purchase  \n",
       "Item ID                  \n",
       "92                59.99  \n",
       "178               50.76  \n",
       "145               41.22  \n",
       "132               28.99  \n",
       "108               31.77  "
      ]
     },
     "execution_count": 42,
     "metadata": {},
     "output_type": "execute_result"
    }
   ],
   "source": [
    "item_id = purchase_data.groupby(purchase_data['Item ID'])\n",
    "#item_id.head()\n",
    "unique_items = item_id['Item ID'].unique().str[0]\n",
    "item_name = item_id['Item Name'].unique().str[0]\n",
    "item_purchase_count = item_id['Age'].count()\n",
    "item_price = item_id['Price'].unique().str[0]\n",
    "item_purchase_total = item_id['Price'].sum()\n",
    "\n",
    "item_summary =pd.DataFrame({'Item ID':unique_items,\n",
    "                'Item Name':item_name,\n",
    "                'Item Price':item_price,\n",
    "                'Item Count':item_purchase_count,\n",
    "                'Total Purchase':item_purchase_total})\n",
    "\n",
    "\n",
    "#item_summary = item_summary.set_index('Item ID')\n",
    "item_summary = item_summary.sort_values('Item Count', ascending=False)\n",
    "item_summary_df = item_summary[['Item Name','Item Count','Item Price','Total Purchase']]\n",
    "item_summary_df.head()"
   ]
  },
  {
   "cell_type": "markdown",
   "metadata": {},
   "source": [
    "## Most Profitable Items"
   ]
  },
  {
   "cell_type": "markdown",
   "metadata": {},
   "source": [
    "* Sort the above table by total purchase value in descending order\n",
    "\n",
    "\n",
    "* Optional: give the displayed data cleaner formatting\n",
    "\n",
    "\n",
    "* Display a preview of the data frame\n",
    "\n"
   ]
  },
  {
   "cell_type": "code",
   "execution_count": 43,
   "metadata": {
    "scrolled": true
   },
   "outputs": [
    {
     "data": {
      "text/html": [
       "<div>\n",
       "<style scoped>\n",
       "    .dataframe tbody tr th:only-of-type {\n",
       "        vertical-align: middle;\n",
       "    }\n",
       "\n",
       "    .dataframe tbody tr th {\n",
       "        vertical-align: top;\n",
       "    }\n",
       "\n",
       "    .dataframe thead th {\n",
       "        text-align: right;\n",
       "    }\n",
       "</style>\n",
       "<table border=\"1\" class=\"dataframe\">\n",
       "  <thead>\n",
       "    <tr style=\"text-align: right;\">\n",
       "      <th></th>\n",
       "      <th>Item ID</th>\n",
       "      <th>Item Name</th>\n",
       "      <th>Item Price</th>\n",
       "      <th>Item Count</th>\n",
       "      <th>Total Purchase</th>\n",
       "    </tr>\n",
       "    <tr>\n",
       "      <th>Item ID</th>\n",
       "      <th></th>\n",
       "      <th></th>\n",
       "      <th></th>\n",
       "      <th></th>\n",
       "      <th></th>\n",
       "    </tr>\n",
       "  </thead>\n",
       "  <tbody>\n",
       "    <tr>\n",
       "      <th>92</th>\n",
       "      <td>92</td>\n",
       "      <td>Final Critic</td>\n",
       "      <td>4.88</td>\n",
       "      <td>13</td>\n",
       "      <td>59.99</td>\n",
       "    </tr>\n",
       "    <tr>\n",
       "      <th>178</th>\n",
       "      <td>178</td>\n",
       "      <td>Oathbreaker, Last Hope of the Breaking Storm</td>\n",
       "      <td>4.23</td>\n",
       "      <td>12</td>\n",
       "      <td>50.76</td>\n",
       "    </tr>\n",
       "    <tr>\n",
       "      <th>82</th>\n",
       "      <td>82</td>\n",
       "      <td>Nirvana</td>\n",
       "      <td>4.90</td>\n",
       "      <td>9</td>\n",
       "      <td>44.10</td>\n",
       "    </tr>\n",
       "    <tr>\n",
       "      <th>145</th>\n",
       "      <td>145</td>\n",
       "      <td>Fiery Glass Crusader</td>\n",
       "      <td>4.58</td>\n",
       "      <td>9</td>\n",
       "      <td>41.22</td>\n",
       "    </tr>\n",
       "    <tr>\n",
       "      <th>103</th>\n",
       "      <td>103</td>\n",
       "      <td>Singed Scalpel</td>\n",
       "      <td>4.35</td>\n",
       "      <td>8</td>\n",
       "      <td>34.80</td>\n",
       "    </tr>\n",
       "  </tbody>\n",
       "</table>\n",
       "</div>"
      ],
      "text/plain": [
       "         Item ID                                     Item Name  Item Price  \\\n",
       "Item ID                                                                      \n",
       "92            92                                  Final Critic        4.88   \n",
       "178          178  Oathbreaker, Last Hope of the Breaking Storm        4.23   \n",
       "82            82                                       Nirvana        4.90   \n",
       "145          145                          Fiery Glass Crusader        4.58   \n",
       "103          103                                Singed Scalpel        4.35   \n",
       "\n",
       "         Item Count  Total Purchase  \n",
       "Item ID                              \n",
       "92               13           59.99  \n",
       "178              12           50.76  \n",
       "82                9           44.10  \n",
       "145               9           41.22  \n",
       "103               8           34.80  "
      ]
     },
     "execution_count": 43,
     "metadata": {},
     "output_type": "execute_result"
    }
   ],
   "source": [
    "most_profit=item_summary.sort_values('Total Purchase', ascending=False)\n",
    "most_profit.head()"
   ]
  }
 ],
 "metadata": {
  "anaconda-cloud": {},
  "kernel_info": {
   "name": "python3"
  },
  "kernelspec": {
   "display_name": "Python 3",
   "language": "python",
   "name": "python3"
  },
  "language_info": {
   "codemirror_mode": {
    "name": "ipython",
    "version": 3
   },
   "file_extension": ".py",
   "mimetype": "text/x-python",
   "name": "python",
   "nbconvert_exporter": "python",
   "pygments_lexer": "ipython3",
   "version": "3.6.10"
  },
  "latex_envs": {
   "LaTeX_envs_menu_present": true,
   "autoclose": false,
   "autocomplete": true,
   "bibliofile": "biblio.bib",
   "cite_by": "apalike",
   "current_citInitial": 1,
   "eqLabelWithNumbers": true,
   "eqNumInitial": 1,
   "hotkeys": {
    "equation": "Ctrl-E",
    "itemize": "Ctrl-I"
   },
   "labels_anchors": false,
   "latex_user_defs": false,
   "report_style_numbering": false,
   "user_envs_cfg": false
  },
  "nteract": {
   "version": "0.2.0"
  }
 },
 "nbformat": 4,
 "nbformat_minor": 2
}
